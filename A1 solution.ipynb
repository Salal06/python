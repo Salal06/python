{
 "cells": [
  {
   "cell_type": "code",
   "execution_count": 1,
   "id": "b4ac5499",
   "metadata": {},
   "outputs": [],
   "source": [
    "# Question No 1"
   ]
  },
  {
   "cell_type": "code",
   "execution_count": 2,
   "id": "5437b880",
   "metadata": {},
   "outputs": [
    {
     "name": "stdout",
     "output_type": "stream",
     "text": [
      "25\n"
     ]
    }
   ],
   "source": [
    "def checkprimenumber(number):\n",
    "    temp=0\n",
    "    for i in range(2,number):\n",
    "        if number % i ==0:\n",
    "            temp=1;\n",
    "    if temp==0:\n",
    "        return 1\n",
    "    else:\n",
    "        return 0\n",
    "\n",
    "    \n",
    "def rotate(number):\n",
    "    remaining=int(number%10)\n",
    "    number=(number/10)\n",
    "    number=int((remaining*(10**(size-1))+number))\n",
    "    return int(number)  \n",
    "count=0\n",
    "j=0\n",
    "for j in range (2,100):\n",
    "    digit=0\n",
    "    Sum=0\n",
    "    i=0\n",
    "    remaining=0\n",
    "    ff=str(j)\n",
    "    size=len(ff)\n",
    "    number=int(ff)\n",
    "    while i<size:\n",
    "        rotate(number)\n",
    "        digit=checkprimenumber(number)\n",
    "        Sum=Sum+digit\n",
    "        i=i+1\n",
    "        if Sum==size:\n",
    "            count=count+1\n",
    "print(count)\n",
    "        \n",
    "    "
   ]
  },
  {
   "cell_type": "code",
   "execution_count": 3,
   "id": "e2290d9e",
   "metadata": {},
   "outputs": [],
   "source": [
    "# Question No 2"
   ]
  },
  {
   "cell_type": "code",
   "execution_count": 4,
   "id": "a5c42e22",
   "metadata": {},
   "outputs": [
    {
     "name": "stdout",
     "output_type": "stream",
     "text": [
      "2\n",
      "3\n",
      "5\n",
      "7\n",
      "11\n",
      "13\n",
      "Sum of Consecutive Primes : 41\n"
     ]
    }
   ],
   "source": [
    "def checkprimenumber(number):\n",
    "    temp=0\n",
    "    for i in range(2,number):\n",
    "        if number % i ==0:\n",
    "            temp=1;\n",
    "    if temp==0:\n",
    "        return 1\n",
    "    else:\n",
    "        return 0\n",
    "\n",
    "Sum=0\n",
    "for x in range(2,15):\n",
    "    x1=checkprimenumber(x)\n",
    "    if x1== 1:\n",
    "        Sum=Sum+x\n",
    "        print(x)\n",
    "\n",
    "print('Sum of Consecutive Primes :',Sum)\n"
   ]
  },
  {
   "cell_type": "code",
   "execution_count": 5,
   "id": "ec1e6e54",
   "metadata": {},
   "outputs": [],
   "source": [
    "# Question NO 3"
   ]
  },
  {
   "cell_type": "code",
   "execution_count": 6,
   "id": "dc460589",
   "metadata": {},
   "outputs": [
    {
     "name": "stdout",
     "output_type": "stream",
     "text": [
      "3797\n",
      "379\n",
      "37\n",
      "3\n",
      "3797\n",
      "797\n",
      "97\n",
      "7\n"
     ]
    }
   ],
   "source": [
    "def checkprime(n):\n",
    "    temp1=0\n",
    "    for x in range(2,n+1):\n",
    "        if n % x ==0:\n",
    "            temp1=1;\n",
    "    if temp1==0:\n",
    "        return 1\n",
    "    else:\n",
    "        return 0\n",
    "def roatatelefttoright(n):\n",
    "    print( n)\n",
    "    while n>3:\n",
    "        temp=n%10\n",
    "        n=n-temp\n",
    "        n=n//10\n",
    "        k=checkprime(n)\n",
    "        print(n)\n",
    "def roataterighttoleft(n):\n",
    "    print (n)\n",
    "    div=1000\n",
    "    for x in range(1,4):\n",
    "        n=n%div\n",
    "        print(n)\n",
    "        div=div//10\n",
    "        k1=checkprime(n)\n",
    "        \n",
    "    \n",
    "\n",
    "        \n",
    "for i in range (1,2):\n",
    "    roatatelefttoright(3797)\n",
    "    roataterighttoleft(3797)"
   ]
  },
  {
   "cell_type": "code",
   "execution_count": 7,
   "id": "cc2d70ab",
   "metadata": {},
   "outputs": [],
   "source": [
    "# Question No 4"
   ]
  },
  {
   "cell_type": "code",
   "execution_count": 8,
   "id": "b7ba1dd1",
   "metadata": {},
   "outputs": [
    {
     "name": "stdout",
     "output_type": "stream",
     "text": [
      "enter the number\n",
      "56\n",
      "65\n",
      "it is  palindromes  121\n"
     ]
    }
   ],
   "source": [
    "def checkprime(number):\n",
    "    temp=0\n",
    "    for i in range(2,number):\n",
    "        if number % i ==0:\n",
    "            temp=1;\n",
    "    if temp==0:\n",
    "        return 1\n",
    "    else:\n",
    "        return 0\n",
    "    \n",
    "def reversenumber(number):\n",
    "    reverse=0\n",
    "    rem=0\n",
    "    while number>=1:\n",
    "        rem=number%10\n",
    "        reverse=reverse *10  +rem\n",
    "        number=number//10\n",
    "    print (reverse)\n",
    "    return int(reverse)\n",
    "    \n",
    "\n",
    "\n",
    "number = int(input('enter the number\\n'))\n",
    "rev=reversenumber(number)\n",
    "Sum=0\n",
    "Sum=number + rev\n",
    "k1=int(Sum)\n",
    "kk=checkprime(Sum)\n",
    "if kk == 0:\n",
    "    print('it is  palindromes ',Sum)"
   ]
  },
  {
   "cell_type": "code",
   "execution_count": 9,
   "id": "efcf1977",
   "metadata": {},
   "outputs": [],
   "source": [
    "# Question No 5"
   ]
  },
  {
   "cell_type": "code",
   "execution_count": 10,
   "id": "0e70923b",
   "metadata": {},
   "outputs": [],
   "source": [
    "class Queue:\n",
    "    \n",
    "    def _init_(self,size):\n",
    "        self.rear=0\n",
    "        self.front=0\n",
    "        self.queue=list()\n",
    "        self.size=0\n",
    "        \n",
    "    def isempty():\n",
    "        return rear==0\n",
    "    \n",
    "    def isfull():\n",
    "        return rear==size\n",
    "    def enqueue(self,value):\n",
    "        if isfull():\n",
    "            print (\"Queue is full you cannot enqueue a element\\n\")\n",
    "        else:\n",
    "            self.queue.append(value)\n",
    "            self.rear = (self.rear+1)% self.size\n",
    "            return 1\n",
    "        \n",
    "    def dequeue(self):\n",
    "        if isempty():\n",
    "            print('Queue is empty you cannot dequeue a element\\n')\n",
    "        else:\n",
    "            value= self.queue[self.front]\n",
    "            self.front=(self.front+1) % self.size\n",
    "            return value\n",
    "    def size (self):\n",
    "            if self.rear >= self.front:\n",
    "                return self.rear-self.front\n",
    "            else:\n",
    "                return self.size-(self.front-self.rear)\n",
    "    def getfrontvalue(self):\n",
    "            return self.queue[self.front]\n",
    "    def getrearvalue(self):\n",
    "            return self.queue[self.rear]\n",
    "        \n",
    "    def minimumvalue(obj):\n",
    "        min=obj.front\n",
    "        for i in range (0,obj.size()):\n",
    "            if min > i:\n",
    "                min=i\n",
    "        return min\n",
    "        \n",
    "        "
   ]
  },
  {
   "cell_type": "code",
   "execution_count": 11,
   "id": "5aafc5aa",
   "metadata": {},
   "outputs": [],
   "source": [
    "# Question No 6"
   ]
  },
  {
   "cell_type": "code",
   "execution_count": 12,
   "id": "a95627bf",
   "metadata": {},
   "outputs": [],
   "source": [
    "from queue import Queue\n",
    "class Stack:\n",
    "    def _init_ (self):\n",
    "        self.s1=Queue\n",
    "        self.s2=Queue\n",
    "        self.top=0\n",
    "    def push(self,value):\n",
    "        self.top=self.top+1\n",
    "        if self.s1.full():\n",
    "            print('Stack is Full you cannot push another element\\n')\n",
    "    def pop(self):\n",
    "        if self.s1.empty() :\n",
    "            print('Stack is empty you cannot push another element\\n')\n",
    "        self.s1.get()\n",
    "        self.top=self.top-1\n",
    "    def Top(self):\n",
    "        if self.s1.empty():\n",
    "            return -1\n",
    "        return self.s1.queue[0]\n",
    "    def size(self):\n",
    "        return self.top\n",
    "    \n",
    "    \n",
    "        "
   ]
  },
  {
   "cell_type": "code",
   "execution_count": null,
   "id": "9cacb39e",
   "metadata": {},
   "outputs": [],
   "source": []
  }
 ],
 "metadata": {
  "kernelspec": {
   "display_name": "Python 3",
   "language": "python",
   "name": "python3"
  },
  "language_info": {
   "codemirror_mode": {
    "name": "ipython",
    "version": 3
   },
   "file_extension": ".py",
   "mimetype": "text/x-python",
   "name": "python",
   "nbconvert_exporter": "python",
   "pygments_lexer": "ipython3",
   "version": "3.8.8"
  }
 },
 "nbformat": 4,
 "nbformat_minor": 5
}
